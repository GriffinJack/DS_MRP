{
 "cells": [
  {
   "cell_type": "code",
   "execution_count": 1,
   "metadata": {},
   "outputs": [],
   "source": [
    "import pandas as pd\n",
    "import numpy as np \n",
    "from sklearn.preprocessing import OrdinalEncoder\n",
    "from sklearn.impute import SimpleImputer"
   ]
  },
  {
   "cell_type": "code",
   "execution_count": 2,
   "metadata": {},
   "outputs": [],
   "source": [
    "#load in data set\n",
    "data = pd.read_csv('AmesHousing.csv')\n"
   ]
  },
  {
   "cell_type": "markdown",
   "metadata": {},
   "source": [
    "### Missing Values\n",
    "\n",
    "There are a few features that have missing values. Most of them are features where a missing values represents the house not having that feature, such as a pool or garage. \n",
    "\n",
    "Because of this I will fill these missing values with 'None'.\n",
    "\n",
    "The first set of features to fill are categorical features. "
   ]
  },
  {
   "cell_type": "code",
   "execution_count": 3,
   "metadata": {},
   "outputs": [],
   "source": [
    "#These are the categorical features with missing values.\n",
    "catMissing = ['Pool QC', 'Misc Feature', 'Alley', 'Fence', 'Fireplace Qu', 'Garage Type',\n",
    "    'Garage Finish', 'Garage Qual', 'Garage Cond', 'Bsmt Qual', 'Bsmt Cond',\n",
    "    'Bsmt Exposure', 'BsmtFin Type 1', 'BsmtFin Type 2', 'Mas Vnr Type']\n",
    "\n",
    "#Fill missing values with None \n",
    "data[catMissing] = data[catMissing].fillna('None')"
   ]
  },
  {
   "cell_type": "markdown",
   "metadata": {},
   "source": [
    "The next set of features with missing values are numeric features where a missing values again means that the house does not have that feature. This time instead of None it will be filled with 0. "
   ]
  },
  {
   "cell_type": "code",
   "execution_count": 4,
   "metadata": {},
   "outputs": [],
   "source": [
    "numMissing = [ 'Garage Area', 'Garage Cars', 'BsmtFin SF 1', 'BsmtFin SF 2', 'Bsmt Unf SF',\n",
    "    'Total Bsmt SF', 'Bsmt Full Bath', 'Bsmt Half Bath', 'Mas Vnr Area', 'Lot Frontage']\n",
    "\n",
    "data[numMissing] = data[numMissing].fillna(0)"
   ]
  },
  {
   "cell_type": "markdown",
   "metadata": {},
   "source": [
    "Lastly we have a few features with missing valeus that cannot be filled with None or 0. I will use impute techniques to fill these missing values. "
   ]
  },
  {
   "cell_type": "code",
   "execution_count": 5,
   "metadata": {},
   "outputs": [],
   "source": [
    "imputeNa = [\n",
    "    'Functional', 'MS Zoning', 'Electrical', 'Kitchen Qual', 'Exterior 1st',\n",
    "    'Exterior 2nd', 'Sale Type', 'Utilities'\n",
    "]\n",
    "\n",
    "imputer = SimpleImputer(strategy='most_frequent')\n",
    "data[imputeNa] = pd.DataFrame(imputer.fit_transform(data[imputeNa]), index=data.index)\n",
    "\n",
    "#also for garage built we will just fill the missing values with the year the house was built\n",
    "\n",
    "data['Garage Yr Blt'] = data['Garage Yr Blt'].fillna(data['Year Built'])\n"
   ]
  },
  {
   "cell_type": "markdown",
   "metadata": {},
   "source": [
    "Next I need to convert the categorical values from strings to numbers so that the XGBoost model can properly train on the data set"
   ]
  },
  {
   "cell_type": "code",
   "execution_count": 6,
   "metadata": {},
   "outputs": [],
   "source": [
    "encoder = OrdinalEncoder()\n",
    "\n",
    "for col in data:\n",
    "    if data[col].dtype == 'object':\n",
    "        temp = encoder.fit_transform(data[col].values.reshape(-1,1))\n",
    "        data[col] = temp.flatten()"
   ]
  },
  {
   "cell_type": "code",
   "execution_count": null,
   "metadata": {},
   "outputs": [],
   "source": [
    "#Now that the data is preped for training the model I will output it to a csv file\n",
    "data.to_csv('AmesHousing_clean.csv', index=False)"
   ]
  }
 ],
 "metadata": {
  "kernelspec": {
   "display_name": "Python 3",
   "language": "python",
   "name": "python3"
  },
  "language_info": {
   "codemirror_mode": {
    "name": "ipython",
    "version": 3
   },
   "file_extension": ".py",
   "mimetype": "text/x-python",
   "name": "python",
   "nbconvert_exporter": "python",
   "pygments_lexer": "ipython3",
   "version": "3.10.11"
  },
  "orig_nbformat": 4
 },
 "nbformat": 4,
 "nbformat_minor": 2
}
